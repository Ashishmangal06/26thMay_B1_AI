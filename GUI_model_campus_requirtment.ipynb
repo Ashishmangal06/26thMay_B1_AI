{
 "cells": [
  {
   "cell_type": "code",
   "execution_count": 1,
   "metadata": {},
   "outputs": [],
   "source": [
    "import pandas as pd\n",
    "import warnings\n",
    "warnings.filterwarnings('ignore') \n",
    "import tkinter as tk"
   ]
  },
  {
   "cell_type": "code",
   "execution_count": 2,
   "metadata": {},
   "outputs": [],
   "source": [
    "model = pd.read_pickle('campus_requirtment_model')"
   ]
  },
  {
   "cell_type": "code",
   "execution_count": 3,
   "metadata": {},
   "outputs": [],
   "source": [
    "import pandas as pd\n",
    "import warnings\n",
    "warnings.filterwarnings('ignore') \n",
    "import tkinter as tk\n",
    "app=tk.Tk()\n",
    "app.geometry('579x378')\n",
    "app.title(\"Campus_requirtment_prediction\")\n",
    "\n",
    "tk.Label(app,width=40,text=\"Campus_requirtment_prediction\",fg=\"white\",bg=\"green\",font='Helvetica 15 bold',relief=\"groove\").place(x=40,y=0)\n",
    "# tk.Label(app,width=15,text=\"P19\",bg=\"gold\",fg=\"black\",font=\"bold\").place(x=80,y=30)\n",
    "tk.Label(app,width=15,text=\"ssc_p\",bg=\"gold\",fg=\"black\",font=\"bold\",relief=\"groove\").place(x=80,y=80)\n",
    "tk.Label(app,width=15,text=\"hsc_p\",bg=\"gold\",fg=\"black\",font=\"bold\",relief=\"groove\").place(x=80,y=110)\n",
    "tk.Label(app,width=15,text=\"mba_p\",bg=\"gold\",fg=\"black\",font=\"bold\",relief=\"groove\").place(x=80,y=140)\n",
    "tk.Label(app,width=15,text=\"degree_p\",bg=\"gold\",fg=\"black\",font=\"bold\",relief=\"groove\").place(x=80,y=170)\n",
    "\n",
    "ssc_p=tk.Variable(app)\n",
    "hsc_p=tk.Variable(app)\n",
    "mba_p=tk.Variable(app)\n",
    "degree_p=tk.Variable(app)\n",
    "tk.Entry(app,width=20,textvariable=ssc_p,bg='#ffffff',relief=\"groove\").place(x=290,y=80)\n",
    "tk.Entry(app,width=20,textvariable=hsc_p,bg='#ffffff',relief=\"groove\").place(x=290,y=110)\n",
    "tk.Entry(app,width=20,textvariable=mba_p,bg='#ffffff',relief=\"groove\").place(x=290,y=140)\n",
    "tk.Entry(app,width=20,textvariable=degree_p,bg='#ffffff',relief=\"groove\").place(x=290,y=170)\n",
    "predict_var = tk.Variable(app)\n",
    "tk.Label(app,textvariable=predict_var,fg=\"white\",bg=\"#424C5A\",font=(\"Helvetica\", 15,\"bold\")).place(x=260,y=310)\n",
    "def predict():\n",
    "    query = pd.DataFrame({\n",
    "    'ssc_p':[ssc_p.get()],\n",
    "    'hsc_p':[hsc_p.get()],\n",
    "    'mba_p':[mba_p.get()],\n",
    "    'degree_p': [degree_p.get()]\n",
    "})\n",
    "    e=model.predict(query)[0]\n",
    "    predict_var.set(\"{}\".format(e))\n",
    "    ssc_p.set('')\n",
    "    hsc_p.set('')\n",
    "    mba_p.set('')\n",
    "    degree_p.set('')\n",
    "    \n",
    "tk.Button(app,text=\"Predict\",fg=\"white\",bg=\"green\",font='arial 15 underline',relief=\"groove\",command=predict).place(x=200,y=250) \n",
    "app.mainloop()"
   ]
  },
  {
   "cell_type": "code",
   "execution_count": null,
   "metadata": {},
   "outputs": [],
   "source": []
  }
 ],
 "metadata": {
  "kernelspec": {
   "display_name": "Python 3",
   "language": "python",
   "name": "python3"
  },
  "language_info": {
   "codemirror_mode": {
    "name": "ipython",
    "version": 3
   },
   "file_extension": ".py",
   "mimetype": "text/x-python",
   "name": "python",
   "nbconvert_exporter": "python",
   "pygments_lexer": "ipython3",
   "version": "3.7.6"
  }
 },
 "nbformat": 4,
 "nbformat_minor": 4
}
